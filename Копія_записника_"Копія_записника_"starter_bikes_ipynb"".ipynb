{
  "nbformat": 4,
  "nbformat_minor": 0,
  "metadata": {
    "colab": {
      "name": "Копія записника \"Копія записника \"starter_bikes.ipynb\"\"",
      "provenance": [],
      "collapsed_sections": [],
      "include_colab_link": true
    },
    "kernelspec": {
      "name": "python3",
      "display_name": "Python 3"
    }
  },
  "cells": [
    {
      "cell_type": "markdown",
      "metadata": {
        "id": "view-in-github",
        "colab_type": "text"
      },
      "source": [
        "<a href=\"https://colab.research.google.com/github/lukashovatoma/lukashova_resume/blob/master/%D0%9A%D0%BE%D0%BF%D1%96%D1%8F_%D0%B7%D0%B0%D0%BF%D0%B8%D1%81%D0%BD%D0%B8%D0%BA%D0%B0_%22%D0%9A%D0%BE%D0%BF%D1%96%D1%8F_%D0%B7%D0%B0%D0%BF%D0%B8%D1%81%D0%BD%D0%B8%D0%BA%D0%B0_%22starter_bikes_ipynb%22%22.ipynb\" target=\"_parent\"><img src=\"https://colab.research.google.com/assets/colab-badge.svg\" alt=\"Open In Colab\"/></a>"
      ]
    },
    {
      "cell_type": "code",
      "metadata": {
        "id": "mA0HPVmIBT4C",
        "colab": {
          "base_uri": "https://localhost:8080/",
          "height": 423
        },
        "outputId": "6ed82b55-e588-46da-a0af-fc825eaf3e8e"
      },
      "source": [
        "import pandas as pd\n",
        "import numpy as np\n",
        " \n",
        "import tensorflow as tf\n",
        "from tensorflow import keras\n",
        "from tensorflow.keras import layers\n",
        "from tensorflow.keras.layers.experimental import preprocessing\n",
        " \n",
        "# import kerastuner as kt\n",
        " \n",
        "from sklearn.model_selection import train_test_split\n",
        "import seaborn as sns\n",
        "import matplotlib.pyplot as plt\n",
        "\n",
        "bikes = pd.read_csv('https://raw.githubusercontent.com/byui-cse/cse450-course/master/data/bikes.csv')\n",
        "bikes"
      ],
      "execution_count": 20,
      "outputs": [
        {
          "output_type": "execute_result",
          "data": {
            "text/html": [
              "<div>\n",
              "<style scoped>\n",
              "    .dataframe tbody tr th:only-of-type {\n",
              "        vertical-align: middle;\n",
              "    }\n",
              "\n",
              "    .dataframe tbody tr th {\n",
              "        vertical-align: top;\n",
              "    }\n",
              "\n",
              "    .dataframe thead th {\n",
              "        text-align: right;\n",
              "    }\n",
              "</style>\n",
              "<table border=\"1\" class=\"dataframe\">\n",
              "  <thead>\n",
              "    <tr style=\"text-align: right;\">\n",
              "      <th></th>\n",
              "      <th>dteday</th>\n",
              "      <th>season</th>\n",
              "      <th>hr</th>\n",
              "      <th>holiday</th>\n",
              "      <th>workingday</th>\n",
              "      <th>weathersit</th>\n",
              "      <th>hum</th>\n",
              "      <th>windspeed</th>\n",
              "      <th>temp_c</th>\n",
              "      <th>feels_like_c</th>\n",
              "      <th>casual</th>\n",
              "      <th>registered</th>\n",
              "    </tr>\n",
              "  </thead>\n",
              "  <tbody>\n",
              "    <tr>\n",
              "      <th>0</th>\n",
              "      <td>1/1/11</td>\n",
              "      <td>1</td>\n",
              "      <td>0</td>\n",
              "      <td>0</td>\n",
              "      <td>0</td>\n",
              "      <td>1</td>\n",
              "      <td>0.81</td>\n",
              "      <td>0</td>\n",
              "      <td>3.28</td>\n",
              "      <td>3.0014</td>\n",
              "      <td>3</td>\n",
              "      <td>13</td>\n",
              "    </tr>\n",
              "    <tr>\n",
              "      <th>1</th>\n",
              "      <td>1/1/11</td>\n",
              "      <td>1</td>\n",
              "      <td>1</td>\n",
              "      <td>0</td>\n",
              "      <td>0</td>\n",
              "      <td>1</td>\n",
              "      <td>0.80</td>\n",
              "      <td>0</td>\n",
              "      <td>2.34</td>\n",
              "      <td>1.9982</td>\n",
              "      <td>8</td>\n",
              "      <td>32</td>\n",
              "    </tr>\n",
              "    <tr>\n",
              "      <th>2</th>\n",
              "      <td>1/1/11</td>\n",
              "      <td>1</td>\n",
              "      <td>2</td>\n",
              "      <td>0</td>\n",
              "      <td>0</td>\n",
              "      <td>1</td>\n",
              "      <td>0.80</td>\n",
              "      <td>0</td>\n",
              "      <td>2.34</td>\n",
              "      <td>1.9982</td>\n",
              "      <td>5</td>\n",
              "      <td>27</td>\n",
              "    </tr>\n",
              "    <tr>\n",
              "      <th>3</th>\n",
              "      <td>1/1/11</td>\n",
              "      <td>1</td>\n",
              "      <td>3</td>\n",
              "      <td>0</td>\n",
              "      <td>0</td>\n",
              "      <td>1</td>\n",
              "      <td>0.75</td>\n",
              "      <td>0</td>\n",
              "      <td>3.28</td>\n",
              "      <td>3.0014</td>\n",
              "      <td>3</td>\n",
              "      <td>10</td>\n",
              "    </tr>\n",
              "    <tr>\n",
              "      <th>4</th>\n",
              "      <td>1/1/11</td>\n",
              "      <td>1</td>\n",
              "      <td>4</td>\n",
              "      <td>0</td>\n",
              "      <td>0</td>\n",
              "      <td>1</td>\n",
              "      <td>0.75</td>\n",
              "      <td>0</td>\n",
              "      <td>3.28</td>\n",
              "      <td>3.0014</td>\n",
              "      <td>0</td>\n",
              "      <td>1</td>\n",
              "    </tr>\n",
              "    <tr>\n",
              "      <th>...</th>\n",
              "      <td>...</td>\n",
              "      <td>...</td>\n",
              "      <td>...</td>\n",
              "      <td>...</td>\n",
              "      <td>...</td>\n",
              "      <td>...</td>\n",
              "      <td>...</td>\n",
              "      <td>...</td>\n",
              "      <td>...</td>\n",
              "      <td>...</td>\n",
              "      <td>...</td>\n",
              "      <td>...</td>\n",
              "    </tr>\n",
              "    <tr>\n",
              "      <th>16632</th>\n",
              "      <td>11/30/12</td>\n",
              "      <td>4</td>\n",
              "      <td>19</td>\n",
              "      <td>0</td>\n",
              "      <td>1</td>\n",
              "      <td>1</td>\n",
              "      <td>0.66</td>\n",
              "      <td>0</td>\n",
              "      <td>7.04</td>\n",
              "      <td>7.0010</td>\n",
              "      <td>18</td>\n",
              "      <td>359</td>\n",
              "    </tr>\n",
              "    <tr>\n",
              "      <th>16633</th>\n",
              "      <td>11/30/12</td>\n",
              "      <td>4</td>\n",
              "      <td>20</td>\n",
              "      <td>0</td>\n",
              "      <td>1</td>\n",
              "      <td>1</td>\n",
              "      <td>0.66</td>\n",
              "      <td>0</td>\n",
              "      <td>7.04</td>\n",
              "      <td>7.0010</td>\n",
              "      <td>12</td>\n",
              "      <td>233</td>\n",
              "    </tr>\n",
              "    <tr>\n",
              "      <th>16634</th>\n",
              "      <td>11/30/12</td>\n",
              "      <td>4</td>\n",
              "      <td>21</td>\n",
              "      <td>0</td>\n",
              "      <td>1</td>\n",
              "      <td>1</td>\n",
              "      <td>0.75</td>\n",
              "      <td>6</td>\n",
              "      <td>6.10</td>\n",
              "      <td>5.0012</td>\n",
              "      <td>14</td>\n",
              "      <td>169</td>\n",
              "    </tr>\n",
              "    <tr>\n",
              "      <th>16635</th>\n",
              "      <td>11/30/12</td>\n",
              "      <td>4</td>\n",
              "      <td>22</td>\n",
              "      <td>0</td>\n",
              "      <td>1</td>\n",
              "      <td>1</td>\n",
              "      <td>0.75</td>\n",
              "      <td>0</td>\n",
              "      <td>6.10</td>\n",
              "      <td>5.9978</td>\n",
              "      <td>18</td>\n",
              "      <td>145</td>\n",
              "    </tr>\n",
              "    <tr>\n",
              "      <th>16636</th>\n",
              "      <td>11/30/12</td>\n",
              "      <td>4</td>\n",
              "      <td>23</td>\n",
              "      <td>0</td>\n",
              "      <td>1</td>\n",
              "      <td>2</td>\n",
              "      <td>0.75</td>\n",
              "      <td>6</td>\n",
              "      <td>6.10</td>\n",
              "      <td>5.0012</td>\n",
              "      <td>11</td>\n",
              "      <td>99</td>\n",
              "    </tr>\n",
              "  </tbody>\n",
              "</table>\n",
              "<p>16637 rows × 12 columns</p>\n",
              "</div>"
            ],
            "text/plain": [
              "         dteday  season  hr  holiday  ...  temp_c  feels_like_c  casual  registered\n",
              "0        1/1/11       1   0        0  ...    3.28        3.0014       3          13\n",
              "1        1/1/11       1   1        0  ...    2.34        1.9982       8          32\n",
              "2        1/1/11       1   2        0  ...    2.34        1.9982       5          27\n",
              "3        1/1/11       1   3        0  ...    3.28        3.0014       3          10\n",
              "4        1/1/11       1   4        0  ...    3.28        3.0014       0           1\n",
              "...         ...     ...  ..      ...  ...     ...           ...     ...         ...\n",
              "16632  11/30/12       4  19        0  ...    7.04        7.0010      18         359\n",
              "16633  11/30/12       4  20        0  ...    7.04        7.0010      12         233\n",
              "16634  11/30/12       4  21        0  ...    6.10        5.0012      14         169\n",
              "16635  11/30/12       4  22        0  ...    6.10        5.9978      18         145\n",
              "16636  11/30/12       4  23        0  ...    6.10        5.0012      11          99\n",
              "\n",
              "[16637 rows x 12 columns]"
            ]
          },
          "metadata": {
            "tags": []
          },
          "execution_count": 20
        }
      ]
    },
    {
      "cell_type": "code",
      "metadata": {
        "id": "StiU5QcPPxqQ"
      },
      "source": [
        ""
      ],
      "execution_count": 20,
      "outputs": []
    },
    {
      "cell_type": "code",
      "metadata": {
        "colab": {
          "base_uri": "https://localhost:8080/"
        },
        "id": "CpRyYR5_i0vi",
        "outputId": "e4415a06-d6a2-4f8f-c095-bb2df31eb683"
      },
      "source": [
        "bikes.info()"
      ],
      "execution_count": 21,
      "outputs": [
        {
          "output_type": "stream",
          "text": [
            "<class 'pandas.core.frame.DataFrame'>\n",
            "RangeIndex: 16637 entries, 0 to 16636\n",
            "Data columns (total 12 columns):\n",
            " #   Column        Non-Null Count  Dtype  \n",
            "---  ------        --------------  -----  \n",
            " 0   dteday        16637 non-null  object \n",
            " 1   season        16637 non-null  int64  \n",
            " 2   hr            16637 non-null  int64  \n",
            " 3   holiday       16637 non-null  int64  \n",
            " 4   workingday    16637 non-null  int64  \n",
            " 5   weathersit    16637 non-null  int64  \n",
            " 6   hum           16637 non-null  float64\n",
            " 7   windspeed     16637 non-null  int64  \n",
            " 8   temp_c        16637 non-null  float64\n",
            " 9   feels_like_c  16637 non-null  float64\n",
            " 10  casual        16637 non-null  int64  \n",
            " 11  registered    16637 non-null  int64  \n",
            "dtypes: float64(3), int64(8), object(1)\n",
            "memory usage: 1.5+ MB\n"
          ],
          "name": "stdout"
        }
      ]
    },
    {
      "cell_type": "code",
      "metadata": {
        "id": "M2iSPt2ci5f7"
      },
      "source": [
        "import seaborn as sns"
      ],
      "execution_count": 22,
      "outputs": []
    },
    {
      "cell_type": "code",
      "metadata": {
        "colab": {
          "base_uri": "https://localhost:8080/",
          "height": 297
        },
        "id": "RgpuvziKjAUz",
        "outputId": "51e23f07-d061-43bc-c020-68313bfba539"
      },
      "source": [
        "sns.boxplot(data = bikes, x =\"season\", y=\"casual\")"
      ],
      "execution_count": 23,
      "outputs": [
        {
          "output_type": "execute_result",
          "data": {
            "text/plain": [
              "<matplotlib.axes._subplots.AxesSubplot at 0x7fbefa3f7f50>"
            ]
          },
          "metadata": {
            "tags": []
          },
          "execution_count": 23
        },
        {
          "output_type": "display_data",
          "data": {
            "image/png": "[encoded data removed]",
            "text/plain": [
              "<Figure size 432x288 with 1 Axes>"
            ]
          },
          "metadata": {
            "tags": [],
            "needs_background": "light"
          }
        }
      ]
    },
    {
      "cell_type": "code",
      "metadata": {
        "colab": {
          "base_uri": "https://localhost:8080/",
          "height": 297
        },
        "id": "Xhp2QW45jAXR",
        "outputId": "d488fb3d-3170-4644-a4b5-4647418a4107"
      },
      "source": [
        "sns.boxplot(data = bikes, x =\"season\", y=\"registered\")"
      ],
      "execution_count": 24,
      "outputs": [
        {
          "output_type": "execute_result",
          "data": {
            "text/plain": [
              "<matplotlib.axes._subplots.AxesSubplot at 0x7fbefa3811d0>"
            ]
          },
          "metadata": {
            "tags": []
          },
          "execution_count": 24
        },
        {
          "output_type": "display_data",
          "data": {
            "image/png": "[encoded data removed]",
            "text/plain": [
              "<Figure size 432x288 with 1 Axes>"
            ]
          },
          "metadata": {
            "tags": [],
            "needs_background": "light"
          }
        }
      ]
    },
    {
      "cell_type": "code",
      "metadata": {
        "colab": {
          "base_uri": "https://localhost:8080/",
          "height": 297
        },
        "id": "EhTPeh96jwoW",
        "outputId": "554610cc-497c-4905-d795-aa54e1bf0fe9"
      },
      "source": [
        "sns.scatterplot(data = bikes, x =\"temp_c\", y=\"casual\", hue=\"season\")"
      ],
      "execution_count": 25,
      "outputs": [
        {
          "output_type": "execute_result",
          "data": {
            "text/plain": [
              "<matplotlib.axes._subplots.AxesSubplot at 0x7fbefa2c9590>"
            ]
          },
          "metadata": {
            "tags": []
          },
          "execution_count": 25
        },
        {
          "output_type": "display_data",
          "data": {
            "image/png": "[encoded data removed]",
            "text/plain": [
              "<Figure size 432x288 with 1 Axes>"
            ]
          },
          "metadata": {
            "tags": [],
            "needs_background": "light"
          }
        }
      ]
    },
    {
      "cell_type": "code",
      "metadata": {
        "colab": {
          "base_uri": "https://localhost:8080/",
          "height": 297
        },
        "id": "RV2qRQp0jwqs",
        "outputId": "75c61dbc-b130-423d-c569-9fe8f3e4424d"
      },
      "source": [
        "sns.scatterplot(data = bikes, x =\"temp_c\", y=\"registered\",hue=\"season\" )"
      ],
      "execution_count": 26,
      "outputs": [
        {
          "output_type": "execute_result",
          "data": {
            "text/plain": [
              "<matplotlib.axes._subplots.AxesSubplot at 0x7fbefa250210>"
            ]
          },
          "metadata": {
            "tags": []
          },
          "execution_count": 26
        },
        {
          "output_type": "display_data",
          "data": {
            "image/png": "[encoded data removed]",
            "text/plain": [
              "<Figure size 432x288 with 1 Axes>"
            ]
          },
          "metadata": {
            "tags": [],
            "needs_background": "light"
          }
        }
      ]
    },
    {
      "cell_type": "code",
      "metadata": {
        "id": "ncqJZg7hnzL3"
      },
      "source": [
        ""
      ],
      "execution_count": 26,
      "outputs": []
    },
    {
      "cell_type": "code",
      "metadata": {
        "id": "1VSksuRLiZo-"
      },
      "source": [
        "from xgboost import XGBRegressor\n",
        "from sklearn.model_selection import train_test_split"
      ],
      "execution_count": 27,
      "outputs": []
    },
    {
      "cell_type": "code",
      "metadata": {
        "id": "0k_PtCWRsr4A"
      },
      "source": [
        "bikes['total_bikes'] = bikes['casual'] + bikes['registered']\n",
        "bikes['month'] = bikes['dteday'].apply(lambda x: x.split('/')[0])\n",
        "bikes['day'] = bikes['dteday'].apply(lambda x: x.split('/')[1])\n",
        "bikes['year'] = bikes['dteday'].apply(lambda x: x.split('/')[2])\n",
        "bikes = bikes.astype({'month': 'int32', 'day': 'int32', 'year': 'int32'})"
      ],
      "execution_count": 28,
      "outputs": []
    },
    {
      "cell_type": "code",
      "metadata": {
        "id": "In5vdsnWih56"
      },
      "source": [
        "# split into input (X) and output (Y) variables\n",
        "X = bikes[[\"hr\", \"workingday\", \"holiday\"]]\n",
        "y = bikes[\"total_bikes\"]\n",
        " \n",
        "X_test, X_train, y_test, y_train = train_test_split(X, y, test_size=0.2, random_state=42)"
      ],
      "execution_count": 29,
      "outputs": []
    },
    {
      "cell_type": "code",
      "metadata": {
        "id": "g0uWSeATRpnF"
      },
      "source": [
        "normalizer = preprocessing.Normalization()"
      ],
      "execution_count": 30,
      "outputs": []
    },
    {
      "cell_type": "code",
      "metadata": {
        "id": "EFVu9iktR24U"
      },
      "source": [
        "normalizer.adapt(np.array(X_train))"
      ],
      "execution_count": 31,
      "outputs": []
    },
    {
      "cell_type": "code",
      "metadata": {
        "colab": {
          "base_uri": "https://localhost:8080/"
        },
        "id": "fXXBhPxFSRAB",
        "outputId": "3795bd93-188f-4e86-c8aa-6e3a79977f7c"
      },
      "source": [
        "print(normalizer.mean.numpy())"
      ],
      "execution_count": 32,
      "outputs": [
        {
          "output_type": "stream",
          "text": [
            "[11.627705    0.67608184  0.03034856]\n"
          ],
          "name": "stdout"
        }
      ]
    },
    {
      "cell_type": "code",
      "metadata": {
        "id": "1ft3o9qASm6F"
      },
      "source": [
        "bikes_s = np.array(X_train)\n",
        "\n",
        "bikes_normalizer = preprocessing.Normalization(input_shape=[1,])\n",
        "bikes_normalizer.adapt(bikes_s)"
      ],
      "execution_count": 33,
      "outputs": []
    },
    {
      "cell_type": "code",
      "metadata": {
        "colab": {
          "base_uri": "https://localhost:8080/"
        },
        "id": "lb1XRrklTWHf",
        "outputId": "e26ba565-3ee9-44c1-d896-748110a2e708"
      },
      "source": [
        "bikes_model = tf.keras.Sequential([\n",
        "    bikes_normalizer,\n",
        "    layers.Dense(units=1)\n",
        "])\n",
        "\n",
        "bikes_model.summary()"
      ],
      "execution_count": 34,
      "outputs": [
        {
          "output_type": "stream",
          "text": [
            "Model: \"sequential_1\"\n",
            "_________________________________________________________________\n",
            "Layer (type)                 Output Shape              Param #   \n",
            "=================================================================\n",
            "normalization_3 (Normalizati (None, 3)                 7         \n",
            "_________________________________________________________________\n",
            "dense_1 (Dense)              (None, 1)                 4         \n",
            "=================================================================\n",
            "Total params: 11\n",
            "Trainable params: 4\n",
            "Non-trainable params: 7\n",
            "_________________________________________________________________\n"
          ],
          "name": "stdout"
        }
      ]
    },
    {
      "cell_type": "code",
      "metadata": {
        "colab": {
          "base_uri": "https://localhost:8080/"
        },
        "id": "vFyqwXe9TWKE",
        "outputId": "4fc6ad66-fcb7-4a6f-82c3-e2b3bdd73580"
      },
      "source": [
        "bikes_model.predict(X_train[:10])"
      ],
      "execution_count": 38,
      "outputs": [
        {
          "output_type": "stream",
          "text": [
            "WARNING:tensorflow:Model was constructed with shape (None, 1) for input KerasTensor(type_spec=TensorSpec(shape=(None, 1), dtype=tf.float32, name='normalization_3_input'), name='normalization_3_input', description=\"created by layer 'normalization_3_input'\"), but it was called on an input with incompatible shape (None, 3).\n"
          ],
          "name": "stdout"
        },
        {
          "output_type": "execute_result",
          "data": {
            "text/plain": [
              "array([[ 2.2813764 ],\n",
              "       [-5.5267305 ],\n",
              "       [ 0.63219315],\n",
              "       [ 2.611213  ],\n",
              "       [-1.5076243 ],\n",
              "       [-0.35731685],\n",
              "       [ 2.7761314 ],\n",
              "       [ 1.7866215 ],\n",
              "       [-0.8520718 ],\n",
              "       [ 0.30235648]], dtype=float32)"
            ]
          },
          "metadata": {
            "tags": []
          },
          "execution_count": 38
        }
      ]
    },
    {
      "cell_type": "code",
      "metadata": {
        "colab": {
          "base_uri": "https://localhost:8080/"
        },
        "id": "95egNpOUTWMo",
        "outputId": "9499b457-137f-4bab-e022-7de526ee9202"
      },
      "source": [
        "bikes_model.layers[1].kernel"
      ],
      "execution_count": 71,
      "outputs": [
        {
          "output_type": "execute_result",
          "data": {
            "text/plain": [
              "<tf.Variable 'dense_1/kernel:0' shape=(3, 1) dtype=float32, numpy=\n",
              "array([[-1.1506124],\n",
              "       [ 1.0785455],\n",
              "       [-0.6328739]], dtype=float32)>"
            ]
          },
          "metadata": {
            "tags": []
          },
          "execution_count": 71
        }
      ]
    },
    {
      "cell_type": "code",
      "metadata": {
        "id": "0uQ1DpmhTWOy"
      },
      "source": [
        "bikes_model.compile(\n",
        "    optimizer=tf.optimizers.Adam(learning_rate=0.1),\n",
        "    loss='mean_absolute_error')"
      ],
      "execution_count": 72,
      "outputs": []
    },
    {
      "cell_type": "code",
      "metadata": {
        "colab": {
          "base_uri": "https://localhost:8080/"
        },
        "id": "AKm55mh8TWRJ",
        "outputId": "6cdfad58-d802-4fd0-dad5-5c6b9a6fa799"
      },
      "source": [
        "\n",
        "dll_model = bikes_model.fit(\n",
        "    x=X_train,\n",
        "    y=y_train,\n",
        "    epochs=200\n",
        "   )\n",
        "\n"
      ],
      "execution_count": 77,
      "outputs": [
        {
          "output_type": "stream",
          "text": [
            "Epoch 1/200\n",
            "WARNING:tensorflow:Model was constructed with shape (None, 1) for input KerasTensor(type_spec=TensorSpec(shape=(None, 1), dtype=tf.float32, name='normalization_3_input'), name='normalization_3_input', description=\"created by layer 'normalization_3_input'\"), but it was called on an input with incompatible shape (32, 3).\n",
            "WARNING:tensorflow:Model was constructed with shape (None, 1) for input KerasTensor(type_spec=TensorSpec(shape=(None, 1), dtype=tf.float32, name='normalization_3_input'), name='normalization_3_input', description=\"created by layer 'normalization_3_input'\"), but it was called on an input with incompatible shape (32, 3).\n",
            "104/104 [==============================] - 0s 780us/step - loss: 182.0439\n",
            "Epoch 2/200\n",
            "104/104 [==============================] - 0s 803us/step - loss: 172.4392\n",
            "Epoch 3/200\n",
            "104/104 [==============================] - 0s 916us/step - loss: 163.5572\n",
            "Epoch 4/200\n",
            "104/104 [==============================] - 0s 752us/step - loss: 155.7749\n",
            "Epoch 5/200\n",
            "104/104 [==============================] - 0s 774us/step - loss: 149.0897\n",
            "Epoch 6/200\n",
            "104/104 [==============================] - 0s 829us/step - loss: 143.3497\n",
            "Epoch 7/200\n",
            "104/104 [==============================] - 0s 857us/step - loss: 138.5442\n",
            "Epoch 8/200\n",
            "104/104 [==============================] - 0s 760us/step - loss: 134.5709\n",
            "Epoch 9/200\n",
            "104/104 [==============================] - 0s 830us/step - loss: 131.2360\n",
            "Epoch 10/200\n",
            "104/104 [==============================] - 0s 957us/step - loss: 128.4297\n",
            "Epoch 11/200\n",
            "104/104 [==============================] - 0s 780us/step - loss: 126.0589\n",
            "Epoch 12/200\n",
            "104/104 [==============================] - 0s 758us/step - loss: 124.1307\n",
            "Epoch 13/200\n",
            "104/104 [==============================] - 0s 859us/step - loss: 122.5220\n",
            "Epoch 14/200\n",
            "104/104 [==============================] - 0s 817us/step - loss: 121.2006\n",
            "Epoch 15/200\n",
            "104/104 [==============================] - 0s 767us/step - loss: 120.1216\n",
            "Epoch 16/200\n",
            "104/104 [==============================] - 0s 789us/step - loss: 119.2004\n",
            "Epoch 17/200\n",
            "104/104 [==============================] - 0s 1ms/step - loss: 118.4109\n",
            "Epoch 18/200\n",
            "104/104 [==============================] - 0s 823us/step - loss: 117.7608\n",
            "Epoch 19/200\n",
            "104/104 [==============================] - 0s 918us/step - loss: 117.2193\n",
            "Epoch 20/200\n",
            "104/104 [==============================] - 0s 838us/step - loss: 116.8112\n",
            "Epoch 21/200\n",
            "104/104 [==============================] - 0s 826us/step - loss: 116.5152\n",
            "Epoch 22/200\n",
            "104/104 [==============================] - 0s 827us/step - loss: 116.2827\n",
            "Epoch 23/200\n",
            "104/104 [==============================] - 0s 812us/step - loss: 116.1235\n",
            "Epoch 24/200\n",
            "104/104 [==============================] - 0s 841us/step - loss: 115.9731\n",
            "Epoch 25/200\n",
            "104/104 [==============================] - 0s 777us/step - loss: 115.8792\n",
            "Epoch 26/200\n",
            "104/104 [==============================] - 0s 799us/step - loss: 115.8037\n",
            "Epoch 27/200\n",
            "104/104 [==============================] - 0s 803us/step - loss: 115.7315\n",
            "Epoch 28/200\n",
            "104/104 [==============================] - 0s 777us/step - loss: 115.6859\n",
            "Epoch 29/200\n",
            "104/104 [==============================] - 0s 824us/step - loss: 115.6526\n",
            "Epoch 30/200\n",
            "104/104 [==============================] - 0s 769us/step - loss: 115.6291\n",
            "Epoch 31/200\n",
            "104/104 [==============================] - 0s 765us/step - loss: 115.6186\n",
            "Epoch 32/200\n",
            "104/104 [==============================] - 0s 770us/step - loss: 115.6038\n",
            "Epoch 33/200\n",
            "104/104 [==============================] - 0s 747us/step - loss: 115.5846\n",
            "Epoch 34/200\n",
            "104/104 [==============================] - 0s 833us/step - loss: 115.5833\n",
            "Epoch 35/200\n",
            "104/104 [==============================] - 0s 743us/step - loss: 115.5777\n",
            "Epoch 36/200\n",
            "104/104 [==============================] - 0s 832us/step - loss: 115.5773\n",
            "Epoch 37/200\n",
            "104/104 [==============================] - 0s 855us/step - loss: 115.5802\n",
            "Epoch 38/200\n",
            "104/104 [==============================] - 0s 805us/step - loss: 115.5661\n",
            "Epoch 39/200\n",
            "104/104 [==============================] - 0s 735us/step - loss: 115.5655\n",
            "Epoch 40/200\n",
            "104/104 [==============================] - 0s 753us/step - loss: 115.5665\n",
            "Epoch 41/200\n",
            "104/104 [==============================] - 0s 898us/step - loss: 115.5678\n",
            "Epoch 42/200\n",
            "104/104 [==============================] - 0s 746us/step - loss: 115.5637\n",
            "Epoch 43/200\n",
            "104/104 [==============================] - 0s 740us/step - loss: 115.5670\n",
            "Epoch 44/200\n",
            "104/104 [==============================] - 0s 778us/step - loss: 115.5631\n",
            "Epoch 45/200\n",
            "104/104 [==============================] - 0s 780us/step - loss: 115.5602\n",
            "Epoch 46/200\n",
            "104/104 [==============================] - 0s 756us/step - loss: 115.5655\n",
            "Epoch 47/200\n",
            "104/104 [==============================] - 0s 831us/step - loss: 115.5678\n",
            "Epoch 48/200\n",
            "104/104 [==============================] - 0s 777us/step - loss: 115.5580\n",
            "Epoch 49/200\n",
            "104/104 [==============================] - 0s 796us/step - loss: 115.5684\n",
            "Epoch 50/200\n",
            "104/104 [==============================] - 0s 791us/step - loss: 115.5746\n",
            "Epoch 51/200\n",
            "104/104 [==============================] - 0s 895us/step - loss: 115.5618\n",
            "Epoch 52/200\n",
            "104/104 [==============================] - 0s 803us/step - loss: 115.5577\n",
            "Epoch 53/200\n",
            "104/104 [==============================] - 0s 752us/step - loss: 115.5546\n",
            "Epoch 54/200\n",
            "104/104 [==============================] - 0s 734us/step - loss: 115.5607\n",
            "Epoch 55/200\n",
            "104/104 [==============================] - 0s 714us/step - loss: 115.5660\n",
            "Epoch 56/200\n",
            "104/104 [==============================] - 0s 752us/step - loss: 115.5627\n",
            "Epoch 57/200\n",
            "104/104 [==============================] - 0s 798us/step - loss: 115.5579\n",
            "Epoch 58/200\n",
            "104/104 [==============================] - 0s 793us/step - loss: 115.5587\n",
            "Epoch 59/200\n",
            "104/104 [==============================] - 0s 865us/step - loss: 115.5655\n",
            "Epoch 60/200\n",
            "104/104 [==============================] - 0s 815us/step - loss: 115.5704\n",
            "Epoch 61/200\n",
            "104/104 [==============================] - 0s 939us/step - loss: 115.5664\n",
            "Epoch 62/200\n",
            "104/104 [==============================] - 0s 796us/step - loss: 115.5678\n",
            "Epoch 63/200\n",
            "104/104 [==============================] - 0s 820us/step - loss: 115.5585\n",
            "Epoch 64/200\n",
            "104/104 [==============================] - 0s 936us/step - loss: 115.5785\n",
            "Epoch 65/200\n",
            "104/104 [==============================] - 0s 818us/step - loss: 115.5680\n",
            "Epoch 66/200\n",
            "104/104 [==============================] - 0s 747us/step - loss: 115.5646\n",
            "Epoch 67/200\n",
            "104/104 [==============================] - 0s 762us/step - loss: 115.5632\n",
            "Epoch 68/200\n",
            "104/104 [==============================] - 0s 791us/step - loss: 115.5654\n",
            "Epoch 69/200\n",
            "104/104 [==============================] - 0s 804us/step - loss: 115.5734\n",
            "Epoch 70/200\n",
            "104/104 [==============================] - 0s 961us/step - loss: 115.5661\n",
            "Epoch 71/200\n",
            "104/104 [==============================] - 0s 767us/step - loss: 115.5646\n",
            "Epoch 72/200\n",
            "104/104 [==============================] - 0s 822us/step - loss: 115.5704\n",
            "Epoch 73/200\n",
            "104/104 [==============================] - 0s 867us/step - loss: 115.5646\n",
            "Epoch 74/200\n",
            "104/104 [==============================] - 0s 730us/step - loss: 115.5658\n",
            "Epoch 75/200\n",
            "104/104 [==============================] - 0s 739us/step - loss: 115.5707\n",
            "Epoch 76/200\n",
            "104/104 [==============================] - 0s 722us/step - loss: 115.5648\n",
            "Epoch 77/200\n",
            "104/104 [==============================] - 0s 812us/step - loss: 115.5600\n",
            "Epoch 78/200\n",
            "104/104 [==============================] - 0s 755us/step - loss: 115.5707\n",
            "Epoch 79/200\n",
            "104/104 [==============================] - 0s 775us/step - loss: 115.5658\n",
            "Epoch 80/200\n",
            "104/104 [==============================] - 0s 773us/step - loss: 115.5625\n",
            "Epoch 81/200\n",
            "104/104 [==============================] - 0s 863us/step - loss: 115.5592\n",
            "Epoch 82/200\n",
            "104/104 [==============================] - 0s 789us/step - loss: 115.5642\n",
            "Epoch 83/200\n",
            "104/104 [==============================] - 0s 815us/step - loss: 115.5767\n",
            "Epoch 84/200\n",
            "104/104 [==============================] - 0s 834us/step - loss: 115.5695\n",
            "Epoch 85/200\n",
            "104/104 [==============================] - 0s 758us/step - loss: 115.5663\n",
            "Epoch 86/200\n",
            "104/104 [==============================] - 0s 753us/step - loss: 115.5783\n",
            "Epoch 87/200\n",
            "104/104 [==============================] - 0s 792us/step - loss: 115.5708\n",
            "Epoch 88/200\n",
            "104/104 [==============================] - 0s 823us/step - loss: 115.5701\n",
            "Epoch 89/200\n",
            "104/104 [==============================] - 0s 834us/step - loss: 115.5630\n",
            "Epoch 90/200\n",
            "104/104 [==============================] - 0s 847us/step - loss: 115.5578\n",
            "Epoch 91/200\n",
            "104/104 [==============================] - 0s 829us/step - loss: 115.5639\n",
            "Epoch 92/200\n",
            "104/104 [==============================] - 0s 913us/step - loss: 115.5603\n",
            "Epoch 93/200\n",
            "104/104 [==============================] - 0s 841us/step - loss: 115.5578\n",
            "Epoch 94/200\n",
            "104/104 [==============================] - 0s 798us/step - loss: 115.5596\n",
            "Epoch 95/200\n",
            "104/104 [==============================] - 0s 866us/step - loss: 115.5613\n",
            "Epoch 96/200\n",
            "104/104 [==============================] - 0s 845us/step - loss: 115.5606\n",
            "Epoch 97/200\n",
            "104/104 [==============================] - 0s 861us/step - loss: 115.5623\n",
            "Epoch 98/200\n",
            "104/104 [==============================] - 0s 822us/step - loss: 115.5594\n",
            "Epoch 99/200\n",
            "104/104 [==============================] - 0s 864us/step - loss: 115.5690\n",
            "Epoch 100/200\n",
            "104/104 [==============================] - 0s 884us/step - loss: 115.5589\n",
            "Epoch 101/200\n",
            "104/104 [==============================] - 0s 807us/step - loss: 115.5647\n",
            "Epoch 102/200\n",
            "104/104 [==============================] - 0s 735us/step - loss: 115.5686\n",
            "Epoch 103/200\n",
            "104/104 [==============================] - 0s 798us/step - loss: 115.5663\n",
            "Epoch 104/200\n",
            "104/104 [==============================] - 0s 826us/step - loss: 115.5659\n",
            "Epoch 105/200\n",
            "104/104 [==============================] - 0s 901us/step - loss: 115.5549\n",
            "Epoch 106/200\n",
            "104/104 [==============================] - 0s 773us/step - loss: 115.5726\n",
            "Epoch 107/200\n",
            "104/104 [==============================] - 0s 747us/step - loss: 115.5632\n",
            "Epoch 108/200\n",
            "104/104 [==============================] - 0s 826us/step - loss: 115.5636\n",
            "Epoch 109/200\n",
            "104/104 [==============================] - 0s 785us/step - loss: 115.5701\n",
            "Epoch 110/200\n",
            "104/104 [==============================] - 0s 826us/step - loss: 115.5691\n",
            "Epoch 111/200\n",
            "104/104 [==============================] - 0s 792us/step - loss: 115.5716\n",
            "Epoch 112/200\n",
            "104/104 [==============================] - 0s 827us/step - loss: 115.5651\n",
            "Epoch 113/200\n",
            "104/104 [==============================] - 0s 851us/step - loss: 115.5745\n",
            "Epoch 114/200\n",
            "104/104 [==============================] - 0s 927us/step - loss: 115.5695\n",
            "Epoch 115/200\n",
            "104/104 [==============================] - 0s 874us/step - loss: 115.5680\n",
            "Epoch 116/200\n",
            "104/104 [==============================] - 0s 818us/step - loss: 115.5669\n",
            "Epoch 117/200\n",
            "104/104 [==============================] - 0s 737us/step - loss: 115.5668\n",
            "Epoch 118/200\n",
            "104/104 [==============================] - 0s 809us/step - loss: 115.5707\n",
            "Epoch 119/200\n",
            "104/104 [==============================] - 0s 800us/step - loss: 115.5608\n",
            "Epoch 120/200\n",
            "104/104 [==============================] - 0s 793us/step - loss: 115.5633\n",
            "Epoch 121/200\n",
            "104/104 [==============================] - 0s 773us/step - loss: 115.5639\n",
            "Epoch 122/200\n",
            "104/104 [==============================] - 0s 839us/step - loss: 115.5674\n",
            "Epoch 123/200\n",
            "104/104 [==============================] - 0s 859us/step - loss: 115.5632\n",
            "Epoch 124/200\n",
            "104/104 [==============================] - 0s 767us/step - loss: 115.5684\n",
            "Epoch 125/200\n",
            "104/104 [==============================] - 0s 858us/step - loss: 115.5624\n",
            "Epoch 126/200\n",
            "104/104 [==============================] - 0s 910us/step - loss: 115.5858\n",
            "Epoch 127/200\n",
            "104/104 [==============================] - 0s 755us/step - loss: 115.5707\n",
            "Epoch 128/200\n",
            "104/104 [==============================] - 0s 771us/step - loss: 115.5667\n",
            "Epoch 129/200\n",
            "104/104 [==============================] - 0s 770us/step - loss: 115.5671\n",
            "Epoch 130/200\n",
            "104/104 [==============================] - 0s 802us/step - loss: 115.5626\n",
            "Epoch 131/200\n",
            "104/104 [==============================] - 0s 888us/step - loss: 115.5750\n",
            "Epoch 132/200\n",
            "104/104 [==============================] - 0s 876us/step - loss: 115.5738\n",
            "Epoch 133/200\n",
            "104/104 [==============================] - 0s 925us/step - loss: 115.5670\n",
            "Epoch 134/200\n",
            "104/104 [==============================] - 0s 782us/step - loss: 115.5697\n",
            "Epoch 135/200\n",
            "104/104 [==============================] - 0s 753us/step - loss: 115.5634\n",
            "Epoch 136/200\n",
            "104/104 [==============================] - 0s 903us/step - loss: 115.5614\n",
            "Epoch 137/200\n",
            "104/104 [==============================] - 0s 843us/step - loss: 115.5640\n",
            "Epoch 138/200\n",
            "104/104 [==============================] - 0s 769us/step - loss: 115.5589\n",
            "Epoch 139/200\n",
            "104/104 [==============================] - 0s 836us/step - loss: 115.5589\n",
            "Epoch 140/200\n",
            "104/104 [==============================] - 0s 793us/step - loss: 115.5779\n",
            "Epoch 141/200\n",
            "104/104 [==============================] - 0s 853us/step - loss: 115.5746\n",
            "Epoch 142/200\n",
            "104/104 [==============================] - 0s 873us/step - loss: 115.5671\n",
            "Epoch 143/200\n",
            "104/104 [==============================] - 0s 804us/step - loss: 115.5649\n",
            "Epoch 144/200\n",
            "104/104 [==============================] - 0s 816us/step - loss: 115.5584\n",
            "Epoch 145/200\n",
            "104/104 [==============================] - 0s 817us/step - loss: 115.5748\n",
            "Epoch 146/200\n",
            "104/104 [==============================] - 0s 806us/step - loss: 115.5659\n",
            "Epoch 147/200\n",
            "104/104 [==============================] - 0s 848us/step - loss: 115.5636\n",
            "Epoch 148/200\n",
            "104/104 [==============================] - 0s 947us/step - loss: 115.5683\n",
            "Epoch 149/200\n",
            "104/104 [==============================] - 0s 789us/step - loss: 115.5639\n",
            "Epoch 150/200\n",
            "104/104 [==============================] - 0s 791us/step - loss: 115.5631\n",
            "Epoch 151/200\n",
            "104/104 [==============================] - 0s 816us/step - loss: 115.5566\n",
            "Epoch 152/200\n",
            "104/104 [==============================] - 0s 838us/step - loss: 115.5721\n",
            "Epoch 153/200\n",
            "104/104 [==============================] - 0s 800us/step - loss: 115.5695\n",
            "Epoch 154/200\n",
            "104/104 [==============================] - 0s 768us/step - loss: 115.5575\n",
            "Epoch 155/200\n",
            "104/104 [==============================] - 0s 818us/step - loss: 115.5765\n",
            "Epoch 156/200\n",
            "104/104 [==============================] - 0s 751us/step - loss: 115.5643\n",
            "Epoch 157/200\n",
            "104/104 [==============================] - 0s 818us/step - loss: 115.5673\n",
            "Epoch 158/200\n",
            "104/104 [==============================] - 0s 890us/step - loss: 115.5645\n",
            "Epoch 159/200\n",
            "104/104 [==============================] - 0s 854us/step - loss: 115.5672\n",
            "Epoch 160/200\n",
            "104/104 [==============================] - 0s 867us/step - loss: 115.5766\n",
            "Epoch 161/200\n",
            "104/104 [==============================] - 0s 1ms/step - loss: 115.5620\n",
            "Epoch 162/200\n",
            "104/104 [==============================] - 0s 851us/step - loss: 115.5646\n",
            "Epoch 163/200\n",
            "104/104 [==============================] - 0s 815us/step - loss: 115.5586\n",
            "Epoch 164/200\n",
            "104/104 [==============================] - 0s 963us/step - loss: 115.5754\n",
            "Epoch 165/200\n",
            "104/104 [==============================] - 0s 815us/step - loss: 115.5641\n",
            "Epoch 166/200\n",
            "104/104 [==============================] - 0s 787us/step - loss: 115.5568\n",
            "Epoch 167/200\n",
            "104/104 [==============================] - 0s 865us/step - loss: 115.5686\n",
            "Epoch 168/200\n",
            "104/104 [==============================] - 0s 765us/step - loss: 115.5664\n",
            "Epoch 169/200\n",
            "104/104 [==============================] - 0s 758us/step - loss: 115.5723\n",
            "Epoch 170/200\n",
            "104/104 [==============================] - 0s 963us/step - loss: 115.5610\n",
            "Epoch 171/200\n",
            "104/104 [==============================] - 0s 927us/step - loss: 115.5642\n",
            "Epoch 172/200\n",
            "104/104 [==============================] - 0s 937us/step - loss: 115.5615\n",
            "Epoch 173/200\n",
            "104/104 [==============================] - 0s 809us/step - loss: 115.5631\n",
            "Epoch 174/200\n",
            "104/104 [==============================] - 0s 827us/step - loss: 115.5630\n",
            "Epoch 175/200\n",
            "104/104 [==============================] - 0s 960us/step - loss: 115.5602\n",
            "Epoch 176/200\n",
            "104/104 [==============================] - 0s 873us/step - loss: 115.5720\n",
            "Epoch 177/200\n",
            "104/104 [==============================] - 0s 747us/step - loss: 115.5740\n",
            "Epoch 178/200\n",
            "104/104 [==============================] - 0s 787us/step - loss: 115.5680\n",
            "Epoch 179/200\n",
            "104/104 [==============================] - 0s 817us/step - loss: 115.5622\n",
            "Epoch 180/200\n",
            "104/104 [==============================] - 0s 808us/step - loss: 115.5849\n",
            "Epoch 181/200\n",
            "104/104 [==============================] - 0s 789us/step - loss: 115.5645\n",
            "Epoch 182/200\n",
            "104/104 [==============================] - 0s 882us/step - loss: 115.5650\n",
            "Epoch 183/200\n",
            "104/104 [==============================] - 0s 834us/step - loss: 115.5751\n",
            "Epoch 184/200\n",
            "104/104 [==============================] - 0s 890us/step - loss: 115.5651\n",
            "Epoch 185/200\n",
            "104/104 [==============================] - 0s 894us/step - loss: 115.5567\n",
            "Epoch 186/200\n",
            "104/104 [==============================] - 0s 914us/step - loss: 115.5707\n",
            "Epoch 187/200\n",
            "104/104 [==============================] - 0s 883us/step - loss: 115.5771\n",
            "Epoch 188/200\n",
            "104/104 [==============================] - 0s 867us/step - loss: 115.5641\n",
            "Epoch 189/200\n",
            "104/104 [==============================] - 0s 1ms/step - loss: 115.5616\n",
            "Epoch 190/200\n",
            "104/104 [==============================] - 0s 930us/step - loss: 115.5669\n",
            "Epoch 191/200\n",
            "104/104 [==============================] - 0s 851us/step - loss: 115.5720\n",
            "Epoch 192/200\n",
            "104/104 [==============================] - 0s 849us/step - loss: 115.5666\n",
            "Epoch 193/200\n",
            "104/104 [==============================] - 0s 828us/step - loss: 115.5730\n",
            "Epoch 194/200\n",
            "104/104 [==============================] - 0s 841us/step - loss: 115.5669\n",
            "Epoch 195/200\n",
            "104/104 [==============================] - 0s 833us/step - loss: 115.5619\n",
            "Epoch 196/200\n",
            "104/104 [==============================] - 0s 853us/step - loss: 115.5592\n",
            "Epoch 197/200\n",
            "104/104 [==============================] - 0s 800us/step - loss: 115.5670\n",
            "Epoch 198/200\n",
            "104/104 [==============================] - 0s 755us/step - loss: 115.5732\n",
            "Epoch 199/200\n",
            "104/104 [==============================] - 0s 842us/step - loss: 115.5763\n",
            "Epoch 200/200\n",
            "104/104 [==============================] - 0s 917us/step - loss: 115.5621\n"
          ],
          "name": "stdout"
        }
      ]
    },
    {
      "cell_type": "code",
      "metadata": {
        "colab": {
          "base_uri": "https://localhost:8080/",
          "height": 183
        },
        "id": "PDaajuPm6AaW",
        "outputId": "aea6804d-ff46-4b35-eaf5-a82f9b633e97"
      },
      "source": [
        ""
      ],
      "execution_count": 81,
      "outputs": [
        {
          "output_type": "error",
          "ename": "AttributeError",
          "evalue": "ignored",
          "traceback": [
            "\u001b[0;31m---------------------------------------------------------------------------\u001b[0m",
            "\u001b[0;31mAttributeError\u001b[0m                            Traceback (most recent call last)",
            "\u001b[0;32m<ipython-input-81-7131a0054d69>\u001b[0m in \u001b[0;36m<module>\u001b[0;34m()\u001b[0m\n\u001b[0;32m----> 1\u001b[0;31m \u001b[0mpredictions\u001b[0m \u001b[0;34m=\u001b[0m \u001b[0mdll_model\u001b[0m\u001b[0;34m.\u001b[0m\u001b[0mpredict\u001b[0m\u001b[0;34m(\u001b[0m\u001b[0mX_test\u001b[0m\u001b[0;34m)\u001b[0m\u001b[0;34m\u001b[0m\u001b[0;34m\u001b[0m\u001b[0m\n\u001b[0m\u001b[1;32m      2\u001b[0m \u001b[0mpredictions\u001b[0m\u001b[0;34m\u001b[0m\u001b[0;34m\u001b[0m\u001b[0m\n",
            "\u001b[0;31mAttributeError\u001b[0m: 'History' object has no attribute 'predict'"
          ]
        }
      ]
    },
    {
      "cell_type": "code",
      "metadata": {
        "id": "nQL8IAbgTWTC"
      },
      "source": [
        ""
      ],
      "execution_count": 36,
      "outputs": []
    },
    {
      "cell_type": "code",
      "metadata": {
        "id": "k7x5MNes734k"
      },
      "source": [
        ""
      ],
      "execution_count": null,
      "outputs": []
    },
    {
      "cell_type": "code",
      "metadata": {
        "id": "d3bFmnNZ737K"
      },
      "source": [
        ""
      ],
      "execution_count": null,
      "outputs": []
    },
    {
      "cell_type": "code",
      "metadata": {
        "id": "ALLMN63FPyEQ"
      },
      "source": [
        "def build_and_compile_model():\n",
        " model = keras.Sequential([\n",
        " layers.Dense(64, activation='relu'),\n",
        " layers.Dense(64, activation='relu'),\n",
        " layers.Dense(1)\n",
        " ])\n",
        " \n",
        " model.compile(loss='mean_squared_error',\n",
        " optimizer=tf.keras.optimizers.Adam(0.001))\n",
        " return model"
      ],
      "execution_count": 80,
      "outputs": []
    },
    {
      "cell_type": "code",
      "metadata": {
        "colab": {
          "base_uri": "https://localhost:8080/"
        },
        "id": "zCprtiniLEeV",
        "outputId": "aa53e3ae-a670-4f2b-9c26-c24f8455934c"
      },
      "source": [
        "dnn_model = build_and_compile_model()\n",
        "dnn_model.fit(\n",
        "    x=X_train,\n",
        "    y=y_train,\n",
        "    epochs=200\n",
        ")"
      ],
      "execution_count": 43,
      "outputs": [
        {
          "output_type": "stream",
          "text": [
            "Epoch 1/200\n",
            "104/104 [==============================] - 1s 967us/step - loss: 52737.2773\n",
            "Epoch 2/200\n",
            "104/104 [==============================] - 0s 930us/step - loss: 28374.8652\n",
            "Epoch 3/200\n",
            "104/104 [==============================] - 0s 943us/step - loss: 27362.7852\n",
            "Epoch 4/200\n",
            "104/104 [==============================] - 0s 942us/step - loss: 27298.7891\n",
            "Epoch 5/200\n",
            "104/104 [==============================] - 0s 1ms/step - loss: 27186.3867\n",
            "Epoch 6/200\n",
            "104/104 [==============================] - 0s 861us/step - loss: 27154.0918\n",
            "Epoch 7/200\n",
            "104/104 [==============================] - 0s 840us/step - loss: 27126.4277\n",
            "Epoch 8/200\n",
            "104/104 [==============================] - 0s 946us/step - loss: 27027.1387\n",
            "Epoch 9/200\n",
            "104/104 [==============================] - 0s 1ms/step - loss: 26955.7578\n",
            "Epoch 10/200\n",
            "104/104 [==============================] - 0s 890us/step - loss: 26918.8789\n",
            "Epoch 11/200\n",
            "104/104 [==============================] - 0s 944us/step - loss: 26835.9375\n",
            "Epoch 12/200\n",
            "104/104 [==============================] - 0s 924us/step - loss: 26781.3359\n",
            "Epoch 13/200\n",
            "104/104 [==============================] - 0s 889us/step - loss: 26714.1172\n",
            "Epoch 14/200\n",
            "104/104 [==============================] - 0s 921us/step - loss: 26569.1445\n",
            "Epoch 15/200\n",
            "104/104 [==============================] - 0s 883us/step - loss: 26506.4277\n",
            "Epoch 16/200\n",
            "104/104 [==============================] - 0s 837us/step - loss: 26432.0586\n",
            "Epoch 17/200\n",
            "104/104 [==============================] - 0s 890us/step - loss: 26362.2070\n",
            "Epoch 18/200\n",
            "104/104 [==============================] - 0s 851us/step - loss: 26261.5898\n",
            "Epoch 19/200\n",
            "104/104 [==============================] - 0s 884us/step - loss: 26177.4805\n",
            "Epoch 20/200\n",
            "104/104 [==============================] - 0s 1ms/step - loss: 26099.1543\n",
            "Epoch 21/200\n",
            "104/104 [==============================] - 0s 872us/step - loss: 26006.1953\n",
            "Epoch 22/200\n",
            "104/104 [==============================] - 0s 849us/step - loss: 25871.7148\n",
            "Epoch 23/200\n",
            "104/104 [==============================] - 0s 940us/step - loss: 25803.6973\n",
            "Epoch 24/200\n",
            "104/104 [==============================] - 0s 938us/step - loss: 25727.2715\n",
            "Epoch 25/200\n",
            "104/104 [==============================] - 0s 1ms/step - loss: 25624.6074\n",
            "Epoch 26/200\n",
            "104/104 [==============================] - 0s 913us/step - loss: 25506.1973\n",
            "Epoch 27/200\n",
            "104/104 [==============================] - 0s 827us/step - loss: 25384.9141\n",
            "Epoch 28/200\n",
            "104/104 [==============================] - 0s 863us/step - loss: 25308.1016\n",
            "Epoch 29/200\n",
            "104/104 [==============================] - 0s 824us/step - loss: 25213.5859\n",
            "Epoch 30/200\n",
            "104/104 [==============================] - 0s 826us/step - loss: 25166.2168\n",
            "Epoch 31/200\n",
            "104/104 [==============================] - 0s 817us/step - loss: 25022.5430\n",
            "Epoch 32/200\n",
            "104/104 [==============================] - 0s 886us/step - loss: 24994.6113\n",
            "Epoch 33/200\n",
            "104/104 [==============================] - 0s 812us/step - loss: 24922.3516\n",
            "Epoch 34/200\n",
            "104/104 [==============================] - 0s 860us/step - loss: 24739.1875\n",
            "Epoch 35/200\n",
            "104/104 [==============================] - 0s 960us/step - loss: 24692.5215\n",
            "Epoch 36/200\n",
            "104/104 [==============================] - 0s 924us/step - loss: 24617.7402\n",
            "Epoch 37/200\n",
            "104/104 [==============================] - 0s 931us/step - loss: 24521.8457\n",
            "Epoch 38/200\n",
            "104/104 [==============================] - 0s 1ms/step - loss: 24564.6172\n",
            "Epoch 39/200\n",
            "104/104 [==============================] - 0s 877us/step - loss: 24412.3125\n",
            "Epoch 40/200\n",
            "104/104 [==============================] - 0s 921us/step - loss: 24330.7148\n",
            "Epoch 41/200\n",
            "104/104 [==============================] - 0s 1ms/step - loss: 24256.3340\n",
            "Epoch 42/200\n",
            "104/104 [==============================] - 0s 890us/step - loss: 24163.2988\n",
            "Epoch 43/200\n",
            "104/104 [==============================] - 0s 1ms/step - loss: 24078.2988\n",
            "Epoch 44/200\n",
            "104/104 [==============================] - 0s 971us/step - loss: 24004.0215\n",
            "Epoch 45/200\n",
            "104/104 [==============================] - 0s 948us/step - loss: 23910.9180\n",
            "Epoch 46/200\n",
            "104/104 [==============================] - 0s 922us/step - loss: 23881.9883\n",
            "Epoch 47/200\n",
            "104/104 [==============================] - 0s 929us/step - loss: 23842.8125\n",
            "Epoch 48/200\n",
            "104/104 [==============================] - 0s 958us/step - loss: 23655.2227\n",
            "Epoch 49/200\n",
            "104/104 [==============================] - 0s 942us/step - loss: 23554.6035\n",
            "Epoch 50/200\n",
            "104/104 [==============================] - 0s 902us/step - loss: 23466.7109\n",
            "Epoch 51/200\n",
            "104/104 [==============================] - 0s 1ms/step - loss: 23446.3672\n",
            "Epoch 52/200\n",
            "104/104 [==============================] - 0s 892us/step - loss: 23319.4199\n",
            "Epoch 53/200\n",
            "104/104 [==============================] - 0s 901us/step - loss: 23174.9043\n",
            "Epoch 54/200\n",
            "104/104 [==============================] - 0s 883us/step - loss: 23061.2500\n",
            "Epoch 55/200\n",
            "104/104 [==============================] - 0s 1ms/step - loss: 22906.5020\n",
            "Epoch 56/200\n",
            "104/104 [==============================] - 0s 961us/step - loss: 22750.4102\n",
            "Epoch 57/200\n",
            "104/104 [==============================] - 0s 908us/step - loss: 22651.5449\n",
            "Epoch 58/200\n",
            "104/104 [==============================] - 0s 943us/step - loss: 22511.8008\n",
            "Epoch 59/200\n",
            "104/104 [==============================] - 0s 1ms/step - loss: 22373.2109\n",
            "Epoch 60/200\n",
            "104/104 [==============================] - 0s 934us/step - loss: 22210.5625\n",
            "Epoch 61/200\n",
            "104/104 [==============================] - 0s 1ms/step - loss: 22117.1875\n",
            "Epoch 62/200\n",
            "104/104 [==============================] - 0s 868us/step - loss: 22046.9766\n",
            "Epoch 63/200\n",
            "104/104 [==============================] - 0s 860us/step - loss: 21882.6562\n",
            "Epoch 64/200\n",
            "104/104 [==============================] - 0s 954us/step - loss: 21730.2910\n",
            "Epoch 65/200\n",
            "104/104 [==============================] - 0s 898us/step - loss: 21706.5410\n",
            "Epoch 66/200\n",
            "104/104 [==============================] - 0s 905us/step - loss: 21508.3965\n",
            "Epoch 67/200\n",
            "104/104 [==============================] - 0s 926us/step - loss: 21478.4648\n",
            "Epoch 68/200\n",
            "104/104 [==============================] - 0s 888us/step - loss: 21305.5195\n",
            "Epoch 69/200\n",
            "104/104 [==============================] - 0s 1ms/step - loss: 21253.1230\n",
            "Epoch 70/200\n",
            "104/104 [==============================] - 0s 956us/step - loss: 21187.1953\n",
            "Epoch 71/200\n",
            "104/104 [==============================] - 0s 857us/step - loss: 21098.0508\n",
            "Epoch 72/200\n",
            "104/104 [==============================] - 0s 933us/step - loss: 20986.5918\n",
            "Epoch 73/200\n",
            "104/104 [==============================] - 0s 892us/step - loss: 20952.4336\n",
            "Epoch 74/200\n",
            "104/104 [==============================] - 0s 914us/step - loss: 20857.6484\n",
            "Epoch 75/200\n",
            "104/104 [==============================] - 0s 944us/step - loss: 20859.7793\n",
            "Epoch 76/200\n",
            "104/104 [==============================] - 0s 880us/step - loss: 20885.3359\n",
            "Epoch 77/200\n",
            "104/104 [==============================] - 0s 900us/step - loss: 20746.8555\n",
            "Epoch 78/200\n",
            "104/104 [==============================] - 0s 1ms/step - loss: 20680.5742\n",
            "Epoch 79/200\n",
            "104/104 [==============================] - 0s 888us/step - loss: 20631.0312\n",
            "Epoch 80/200\n",
            "104/104 [==============================] - 0s 844us/step - loss: 20629.2480\n",
            "Epoch 81/200\n",
            "104/104 [==============================] - 0s 871us/step - loss: 20543.1523\n",
            "Epoch 82/200\n",
            "104/104 [==============================] - 0s 885us/step - loss: 20523.7090\n",
            "Epoch 83/200\n",
            "104/104 [==============================] - 0s 970us/step - loss: 20496.7500\n",
            "Epoch 84/200\n",
            "104/104 [==============================] - 0s 1ms/step - loss: 20410.0605\n",
            "Epoch 85/200\n",
            "104/104 [==============================] - 0s 930us/step - loss: 20356.4570\n",
            "Epoch 86/200\n",
            "104/104 [==============================] - 0s 954us/step - loss: 20400.0176\n",
            "Epoch 87/200\n",
            "104/104 [==============================] - 0s 1ms/step - loss: 20444.5391\n",
            "Epoch 88/200\n",
            "104/104 [==============================] - 0s 884us/step - loss: 20185.4238\n",
            "Epoch 89/200\n",
            "104/104 [==============================] - 0s 882us/step - loss: 20181.7324\n",
            "Epoch 90/200\n",
            "104/104 [==============================] - 0s 877us/step - loss: 20082.5605\n",
            "Epoch 91/200\n",
            "104/104 [==============================] - 0s 889us/step - loss: 20133.2480\n",
            "Epoch 92/200\n",
            "104/104 [==============================] - 0s 902us/step - loss: 20041.8828\n",
            "Epoch 93/200\n",
            "104/104 [==============================] - 0s 841us/step - loss: 19930.2129\n",
            "Epoch 94/200\n",
            "104/104 [==============================] - 0s 1ms/step - loss: 19860.6035\n",
            "Epoch 95/200\n",
            "104/104 [==============================] - 0s 944us/step - loss: 19760.3301\n",
            "Epoch 96/200\n",
            "104/104 [==============================] - 0s 929us/step - loss: 19727.8379\n",
            "Epoch 97/200\n",
            "104/104 [==============================] - 0s 886us/step - loss: 19666.5449\n",
            "Epoch 98/200\n",
            "104/104 [==============================] - 0s 977us/step - loss: 19535.9082\n",
            "Epoch 99/200\n",
            "104/104 [==============================] - 0s 844us/step - loss: 19468.2773\n",
            "Epoch 100/200\n",
            "104/104 [==============================] - 0s 930us/step - loss: 19387.7793\n",
            "Epoch 101/200\n",
            "104/104 [==============================] - 0s 941us/step - loss: 19313.4336\n",
            "Epoch 102/200\n",
            "104/104 [==============================] - 0s 877us/step - loss: 19168.3047\n",
            "Epoch 103/200\n",
            "104/104 [==============================] - 0s 1ms/step - loss: 19167.9590\n",
            "Epoch 104/200\n",
            "104/104 [==============================] - 0s 936us/step - loss: 18984.0137\n",
            "Epoch 105/200\n",
            "104/104 [==============================] - 0s 923us/step - loss: 18907.5684\n",
            "Epoch 106/200\n",
            "104/104 [==============================] - 0s 873us/step - loss: 18815.9473\n",
            "Epoch 107/200\n",
            "104/104 [==============================] - 0s 964us/step - loss: 18747.3242\n",
            "Epoch 108/200\n",
            "104/104 [==============================] - 0s 951us/step - loss: 18665.2148\n",
            "Epoch 109/200\n",
            "104/104 [==============================] - 0s 841us/step - loss: 18557.3770\n",
            "Epoch 110/200\n",
            "104/104 [==============================] - 0s 886us/step - loss: 18477.3398\n",
            "Epoch 111/200\n",
            "104/104 [==============================] - 0s 991us/step - loss: 18456.9961\n",
            "Epoch 112/200\n",
            "104/104 [==============================] - 0s 836us/step - loss: 18285.6953\n",
            "Epoch 113/200\n",
            "104/104 [==============================] - 0s 938us/step - loss: 18228.6777\n",
            "Epoch 114/200\n",
            "104/104 [==============================] - 0s 1ms/step - loss: 18119.7891\n",
            "Epoch 115/200\n",
            "104/104 [==============================] - 0s 1ms/step - loss: 18071.5352\n",
            "Epoch 116/200\n",
            "104/104 [==============================] - 0s 925us/step - loss: 18019.7480\n",
            "Epoch 117/200\n",
            "104/104 [==============================] - 0s 915us/step - loss: 17852.7402\n",
            "Epoch 118/200\n",
            "104/104 [==============================] - 0s 835us/step - loss: 17890.2207\n",
            "Epoch 119/200\n",
            "104/104 [==============================] - 0s 877us/step - loss: 17786.9512\n",
            "Epoch 120/200\n",
            "104/104 [==============================] - 0s 1ms/step - loss: 17714.9336\n",
            "Epoch 121/200\n",
            "104/104 [==============================] - 0s 884us/step - loss: 17617.2500\n",
            "Epoch 122/200\n",
            "104/104 [==============================] - 0s 859us/step - loss: 17648.1152\n",
            "Epoch 123/200\n",
            "104/104 [==============================] - 0s 919us/step - loss: 17486.9258\n",
            "Epoch 124/200\n",
            "104/104 [==============================] - 0s 850us/step - loss: 17523.3164\n",
            "Epoch 125/200\n",
            "104/104 [==============================] - 0s 948us/step - loss: 17402.9883\n",
            "Epoch 126/200\n",
            "104/104 [==============================] - 0s 939us/step - loss: 17330.0391\n",
            "Epoch 127/200\n",
            "104/104 [==============================] - 0s 832us/step - loss: 17283.3066\n",
            "Epoch 128/200\n",
            "104/104 [==============================] - 0s 854us/step - loss: 17200.9570\n",
            "Epoch 129/200\n",
            "104/104 [==============================] - 0s 935us/step - loss: 17198.3867\n",
            "Epoch 130/200\n",
            "104/104 [==============================] - 0s 896us/step - loss: 17133.8984\n",
            "Epoch 131/200\n",
            "104/104 [==============================] - 0s 1ms/step - loss: 17062.8398\n",
            "Epoch 132/200\n",
            "104/104 [==============================] - 0s 851us/step - loss: 17009.0586\n",
            "Epoch 133/200\n",
            "104/104 [==============================] - 0s 943us/step - loss: 17011.2695\n",
            "Epoch 134/200\n",
            "104/104 [==============================] - 0s 928us/step - loss: 16977.6602\n",
            "Epoch 135/200\n",
            "104/104 [==============================] - 0s 934us/step - loss: 16873.4023\n",
            "Epoch 136/200\n",
            "104/104 [==============================] - 0s 1ms/step - loss: 16882.6094\n",
            "Epoch 137/200\n",
            "104/104 [==============================] - 0s 879us/step - loss: 16970.5703\n",
            "Epoch 138/200\n",
            "104/104 [==============================] - 0s 900us/step - loss: 16838.5430\n",
            "Epoch 139/200\n",
            "104/104 [==============================] - 0s 947us/step - loss: 16784.4258\n",
            "Epoch 140/200\n",
            "104/104 [==============================] - 0s 1ms/step - loss: 16746.9414\n",
            "Epoch 141/200\n",
            "104/104 [==============================] - 0s 931us/step - loss: 16690.4961\n",
            "Epoch 142/200\n",
            "104/104 [==============================] - 0s 958us/step - loss: 16661.4434\n",
            "Epoch 143/200\n",
            "104/104 [==============================] - 0s 873us/step - loss: 16721.0410\n",
            "Epoch 144/200\n",
            "104/104 [==============================] - 0s 913us/step - loss: 16693.1152\n",
            "Epoch 145/200\n",
            "104/104 [==============================] - 0s 1ms/step - loss: 16659.8105\n",
            "Epoch 146/200\n",
            "104/104 [==============================] - 0s 830us/step - loss: 16644.1133\n",
            "Epoch 147/200\n",
            "104/104 [==============================] - 0s 873us/step - loss: 16579.9219\n",
            "Epoch 148/200\n",
            "104/104 [==============================] - 0s 874us/step - loss: 16614.3887\n",
            "Epoch 149/200\n",
            "104/104 [==============================] - 0s 899us/step - loss: 16533.2266\n",
            "Epoch 150/200\n",
            "104/104 [==============================] - 0s 859us/step - loss: 16479.5469\n",
            "Epoch 151/200\n",
            "104/104 [==============================] - 0s 938us/step - loss: 16473.8418\n",
            "Epoch 152/200\n",
            "104/104 [==============================] - 0s 1ms/step - loss: 16424.0176\n",
            "Epoch 153/200\n",
            "104/104 [==============================] - 0s 944us/step - loss: 16459.2207\n",
            "Epoch 154/200\n",
            "104/104 [==============================] - 0s 1ms/step - loss: 16549.8359\n",
            "Epoch 155/200\n",
            "104/104 [==============================] - 0s 892us/step - loss: 16410.3828\n",
            "Epoch 156/200\n",
            "104/104 [==============================] - 0s 892us/step - loss: 16320.0996\n",
            "Epoch 157/200\n",
            "104/104 [==============================] - 0s 971us/step - loss: 16318.7148\n",
            "Epoch 158/200\n",
            "104/104 [==============================] - 0s 945us/step - loss: 16300.5156\n",
            "Epoch 159/200\n",
            "104/104 [==============================] - 0s 867us/step - loss: 16300.6182\n",
            "Epoch 160/200\n",
            "104/104 [==============================] - 0s 948us/step - loss: 16238.4150\n",
            "Epoch 161/200\n",
            "104/104 [==============================] - 0s 853us/step - loss: 16295.7754\n",
            "Epoch 162/200\n",
            "104/104 [==============================] - 0s 1ms/step - loss: 16193.6084\n",
            "Epoch 163/200\n",
            "104/104 [==============================] - 0s 924us/step - loss: 16219.0215\n",
            "Epoch 164/200\n",
            "104/104 [==============================] - 0s 935us/step - loss: 16125.3125\n",
            "Epoch 165/200\n",
            "104/104 [==============================] - 0s 912us/step - loss: 16099.3398\n",
            "Epoch 166/200\n",
            "104/104 [==============================] - 0s 857us/step - loss: 16068.0293\n",
            "Epoch 167/200\n",
            "104/104 [==============================] - 0s 1ms/step - loss: 16092.0098\n",
            "Epoch 168/200\n",
            "104/104 [==============================] - 0s 972us/step - loss: 16162.0303\n",
            "Epoch 169/200\n",
            "104/104 [==============================] - 0s 883us/step - loss: 16044.1611\n",
            "Epoch 170/200\n",
            "104/104 [==============================] - 0s 912us/step - loss: 16007.0205\n",
            "Epoch 171/200\n",
            "104/104 [==============================] - 0s 1ms/step - loss: 16004.3496\n",
            "Epoch 172/200\n",
            "104/104 [==============================] - 0s 1ms/step - loss: 15932.8662\n",
            "Epoch 173/200\n",
            "104/104 [==============================] - 0s 919us/step - loss: 15949.1035\n",
            "Epoch 174/200\n",
            "104/104 [==============================] - 0s 894us/step - loss: 15879.6602\n",
            "Epoch 175/200\n",
            "104/104 [==============================] - 0s 1ms/step - loss: 15878.0713\n",
            "Epoch 176/200\n",
            "104/104 [==============================] - 0s 918us/step - loss: 15840.6982\n",
            "Epoch 177/200\n",
            "104/104 [==============================] - 0s 882us/step - loss: 15768.3691\n",
            "Epoch 178/200\n",
            "104/104 [==============================] - 0s 1ms/step - loss: 15803.0488\n",
            "Epoch 179/200\n",
            "104/104 [==============================] - 0s 1ms/step - loss: 15782.7461\n",
            "Epoch 180/200\n",
            "104/104 [==============================] - 0s 1ms/step - loss: 15778.3809\n",
            "Epoch 181/200\n",
            "104/104 [==============================] - 0s 919us/step - loss: 15747.2334\n",
            "Epoch 182/200\n",
            "104/104 [==============================] - 0s 962us/step - loss: 15596.3105\n",
            "Epoch 183/200\n",
            "104/104 [==============================] - 0s 958us/step - loss: 15558.9111\n",
            "Epoch 184/200\n",
            "104/104 [==============================] - 0s 1ms/step - loss: 15564.3740\n",
            "Epoch 185/200\n",
            "104/104 [==============================] - 0s 962us/step - loss: 15506.0303\n",
            "Epoch 186/200\n",
            "104/104 [==============================] - 0s 881us/step - loss: 15615.1992\n",
            "Epoch 187/200\n",
            "104/104 [==============================] - 0s 909us/step - loss: 15490.6875\n",
            "Epoch 188/200\n",
            "104/104 [==============================] - 0s 905us/step - loss: 15404.4824\n",
            "Epoch 189/200\n",
            "104/104 [==============================] - 0s 880us/step - loss: 15421.5254\n",
            "Epoch 190/200\n",
            "104/104 [==============================] - 0s 1ms/step - loss: 15367.2637\n",
            "Epoch 191/200\n",
            "104/104 [==============================] - 0s 1ms/step - loss: 15307.4980\n",
            "Epoch 192/200\n",
            "104/104 [==============================] - 0s 1ms/step - loss: 15352.1152\n",
            "Epoch 193/200\n",
            "104/104 [==============================] - 0s 1ms/step - loss: 15255.5898\n",
            "Epoch 194/200\n",
            "104/104 [==============================] - 0s 1ms/step - loss: 15260.0693\n",
            "Epoch 195/200\n",
            "104/104 [==============================] - 0s 1ms/step - loss: 15301.7207\n",
            "Epoch 196/200\n",
            "104/104 [==============================] - 0s 1ms/step - loss: 15202.0869\n",
            "Epoch 197/200\n",
            "104/104 [==============================] - 0s 878us/step - loss: 15177.0049\n",
            "Epoch 198/200\n",
            "104/104 [==============================] - 0s 1ms/step - loss: 15193.4580\n",
            "Epoch 199/200\n",
            "104/104 [==============================] - 0s 1ms/step - loss: 15148.9170\n",
            "Epoch 200/200\n",
            "104/104 [==============================] - 0s 945us/step - loss: 15098.4043\n"
          ],
          "name": "stdout"
        },
        {
          "output_type": "execute_result",
          "data": {
            "text/plain": [
              "<tensorflow.python.keras.callbacks.History at 0x7fbef866d2d0>"
            ]
          },
          "metadata": {
            "tags": []
          },
          "execution_count": 43
        }
      ]
    },
    {
      "cell_type": "code",
      "metadata": {
        "colab": {
          "base_uri": "https://localhost:8080/"
        },
        "id": "xJAMwktRiYyB",
        "outputId": "0009fac1-beeb-4e35-b070-c263badd12c5"
      },
      "source": [
        "#prediction\n",
        "predictions = dnn_model.predict(X_test)\n",
        "predictions"
      ],
      "execution_count": 44,
      "outputs": [
        {
          "output_type": "execute_result",
          "data": {
            "text/plain": [
              "array([[270.32657],\n",
              "       [136.19011],\n",
              "       [244.58833],\n",
              "       ...,\n",
              "       [218.85007],\n",
              "       [256.62326],\n",
              "       [258.01297]], dtype=float32)"
            ]
          },
          "metadata": {
            "tags": []
          },
          "execution_count": 44
        }
      ]
    },
    {
      "cell_type": "code",
      "metadata": {
        "id": "RnGBwGVZPyyh",
        "colab": {
          "base_uri": "https://localhost:8080/"
        },
        "outputId": "d70c9e2f-3d9a-41a5-f6c0-5ace0516f972"
      },
      "source": [
        "#mean squared error\n",
        "from sklearn.metrics import mean_squared_error\n",
        "\n",
        "result = mean_squared_error(y_test, predictions, squared=False)\n",
        "result"
      ],
      "execution_count": 45,
      "outputs": [
        {
          "output_type": "execute_result",
          "data": {
            "text/plain": [
              "127.34029744772458"
            ]
          },
          "metadata": {
            "tags": []
          },
          "execution_count": 45
        }
      ]
    },
    {
      "cell_type": "code",
      "metadata": {
        "colab": {
          "base_uri": "https://localhost:8080/"
        },
        "id": "FDaJ0TNLgP-q",
        "outputId": "add782f2-41f3-4e12-eecd-4af7c25b0b4a"
      },
      "source": [
        "# r2\n",
        "from sklearn.metrics import r2_score\n",
        "\n",
        "result = r2_score(y_test, predictions)\n",
        "result"
      ],
      "execution_count": 46,
      "outputs": [
        {
          "output_type": "execute_result",
          "data": {
            "text/plain": [
              "0.5154390063047365"
            ]
          },
          "metadata": {
            "tags": []
          },
          "execution_count": 46
        }
      ]
    },
    {
      "cell_type": "code",
      "metadata": {
        "id": "v2_hyenrmOBO"
      },
      "source": [
        ""
      ],
      "execution_count": null,
      "outputs": []
    },
    {
      "cell_type": "code",
      "metadata": {
        "id": "CVSfaqgKPzE2"
      },
      "source": [
        ""
      ],
      "execution_count": null,
      "outputs": []
    },
    {
      "cell_type": "markdown",
      "metadata": {
        "id": "guIuDts2sLVv"
      },
      "source": [
        ""
      ]
    },
    {
      "cell_type": "code",
      "metadata": {
        "id": "az39zPXkfZAr"
      },
      "source": [
        ""
      ],
      "execution_count": null,
      "outputs": []
    },
    {
      "cell_type": "code",
      "metadata": {
        "id": "24o-vtMIfZG2"
      },
      "source": [
        ""
      ],
      "execution_count": null,
      "outputs": []
    },
    {
      "cell_type": "code",
      "metadata": {
        "id": "3t8RmydVfZJf"
      },
      "source": [
        ""
      ],
      "execution_count": null,
      "outputs": []
    },
    {
      "cell_type": "code",
      "metadata": {
        "id": "aXZhYwYufZMM"
      },
      "source": [
        ""
      ],
      "execution_count": null,
      "outputs": []
    }
  ]
}